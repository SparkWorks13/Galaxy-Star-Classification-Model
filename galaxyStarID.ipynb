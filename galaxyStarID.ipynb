{
  "nbformat": 4,
  "nbformat_minor": 0,
  "metadata": {
    "colab": {
      "provenance": [],
      "mount_file_id": "1k610Jt-kjtf15H2cJ93qqtzK1CcM3KXo",
      "authorship_tag": "ABX9TyOwpoq4qPNhNIcrMO0EB4z5",
      "include_colab_link": true
    },
    "kernelspec": {
      "name": "python3",
      "display_name": "Python 3"
    },
    "language_info": {
      "name": "python"
    }
  },
  "cells": [
    {
      "cell_type": "markdown",
      "metadata": {
        "id": "view-in-github",
        "colab_type": "text"
      },
      "source": [
        "<a href=\"https://colab.research.google.com/github/SparkWorks13/Galaxy-Star-Classification-Model/blob/main/galaxyStarID.ipynb\" target=\"_parent\"><img src=\"https://colab.research.google.com/assets/colab-badge.svg\" alt=\"Open In Colab\"/></a>"
      ]
    },
    {
      "cell_type": "code",
      "execution_count": null,
      "metadata": {
        "colab": {
          "base_uri": "https://localhost:8080/"
        },
        "id": "pn9iB713FlT5",
        "outputId": "d888105c-e644-4f5d-e81d-c10bebb8d69f"
      },
      "outputs": [
        {
          "output_type": "stream",
          "name": "stdout",
          "text": [
            "Looking in indexes: https://pypi.org/simple, https://us-python.pkg.dev/colab-wheels/public/simple/\n",
            "Requirement already satisfied: pyyaml in /usr/local/lib/python3.10/dist-packages (6.0)\n",
            "Requirement already satisfied: h5py in /usr/local/lib/python3.10/dist-packages (3.8.0)\n",
            "Requirement already satisfied: numpy>=1.14.5 in /usr/local/lib/python3.10/dist-packages (from h5py) (1.22.4)\n",
            "Looking in indexes: https://pypi.org/simple, https://us-python.pkg.dev/colab-wheels/public/simple/\n",
            "Requirement already satisfied: kaggle in /usr/local/lib/python3.10/dist-packages (1.5.13)\n",
            "Requirement already satisfied: six>=1.10 in /usr/local/lib/python3.10/dist-packages (from kaggle) (1.16.0)\n",
            "Requirement already satisfied: certifi in /usr/local/lib/python3.10/dist-packages (from kaggle) (2022.12.7)\n",
            "Requirement already satisfied: python-dateutil in /usr/local/lib/python3.10/dist-packages (from kaggle) (2.8.2)\n",
            "Requirement already satisfied: requests in /usr/local/lib/python3.10/dist-packages (from kaggle) (2.27.1)\n",
            "Requirement already satisfied: tqdm in /usr/local/lib/python3.10/dist-packages (from kaggle) (4.65.0)\n",
            "Requirement already satisfied: python-slugify in /usr/local/lib/python3.10/dist-packages (from kaggle) (8.0.1)\n",
            "Requirement already satisfied: urllib3 in /usr/local/lib/python3.10/dist-packages (from kaggle) (1.26.15)\n",
            "Requirement already satisfied: text-unidecode>=1.3 in /usr/local/lib/python3.10/dist-packages (from python-slugify->kaggle) (1.3)\n",
            "Requirement already satisfied: charset-normalizer~=2.0.0 in /usr/local/lib/python3.10/dist-packages (from requests->kaggle) (2.0.12)\n",
            "Requirement already satisfied: idna<4,>=2.5 in /usr/local/lib/python3.10/dist-packages (from requests->kaggle) (3.4)\n",
            "Downloading dummy-astronomy-data.zip to /content\n",
            " 59% 5.00M/8.46M [00:00<00:00, 23.1MB/s]\n",
            "100% 8.46M/8.46M [00:00<00:00, 37.0MB/s]\n",
            "Archive:  dummy-astronomy-data.zip\n",
            "replace /content/drive/MyDrive/galaxyImages/Cutout Files/galaxy/IC3521-H01_1260_751_3.jpg? [y]es, [n]o, [A]ll, [N]one, [r]ename: "
          ]
        }
      ],
      "source": [
        "import matplotlib.pyplot as plt\n",
        "import numpy as np\n",
        "import PIL\n",
        "import tensorflow as tf\n",
        "import pandas\n",
        "import torchvision.transforms as transforms\n",
        "from PIL import Image\n",
        "from tensorflow import keras\n",
        "from tensorflow.keras import layers\n",
        "from tensorflow.keras.models import Sequential\n",
        "import os\n",
        "\n",
        "!pip install pyyaml h5py\n",
        "!pip install kaggle\n",
        "!mkdir ~/.kaggle\n",
        "!cp /content/drive/MyDrive/kaggle.json ~/.kaggle/kaggle.json\n",
        "!chmod 600 ~/.kaggle/kaggle.json\n",
        "\n",
        "!kaggle datasets download -d divyansh22/dummy-astronomy-data\n",
        "!unzip dummy-astronomy-data.zip -d /content/drive/MyDrive/galaxyImages"
      ]
    },
    {
      "cell_type": "code",
      "source": [
        "trainSet = tf.keras.preprocessing.image_dataset_from_directory(\n",
        "  r'/content/drive/MyDrive/galaxyImages/Cutout Files',\n",
        "  validation_split=0.2,\n",
        "  subset=\"training\",\n",
        "  seed=123,\n",
        "  image_size=(180, 180), batch_size=64)\n",
        "\n",
        "valSet = tf.keras.preprocessing.image_dataset_from_directory(\n",
        "  r'/content/drive/MyDrive/galaxyImages/Cutout Files',\n",
        "  validation_split=0.2,\n",
        "  subset=\"validation\",\n",
        "  seed=123,\n",
        "  image_size=(180, 180), batch_size=64)\n",
        "\n",
        "trainSet = trainSet.cache().shuffle(1000).prefetch(buffer_size=tf.data.AUTOTUNE)\n",
        "valSet = valSet.cache().prefetch(buffer_size=tf.data.AUTOTUNE)"
      ],
      "metadata": {
        "colab": {
          "base_uri": "https://localhost:8080/"
        },
        "id": "92GYD0mkKMqn",
        "outputId": "47b1ebdc-595c-45ad-ba64-5ca4023bbe89"
      },
      "execution_count": null,
      "outputs": [
        {
          "output_type": "stream",
          "name": "stdout",
          "text": [
            "Found 3986 files belonging to 2 classes.\n",
            "Using 3189 files for training.\n",
            "Found 3986 files belonging to 2 classes.\n",
            "Using 797 files for validation.\n"
          ]
        }
      ]
    },
    {
      "cell_type": "code",
      "source": [
        "dataAugmentation = keras.Sequential(\n",
        "  [\n",
        "    layers.RandomFlip(\"horizontal\",\n",
        "                      input_shape=(180,\n",
        "                                  180,\n",
        "                                  3)),\n",
        "    layers.RandomRotation(0.1),\n",
        "    layers.RandomZoom(0.1),\n",
        "  ]\n",
        ")"
      ],
      "metadata": {
        "id": "-VexDYVqA6Sj"
      },
      "execution_count": null,
      "outputs": []
    },
    {
      "cell_type": "code",
      "source": [
        "model = Sequential([\n",
        "  dataAugmentation,\n",
        "  layers.Rescaling(1./255, input_shape=(180, 180, 3)),\n",
        "  layers.Conv2D(16, 3, padding='same', activation='relu'),\n",
        "  layers.MaxPooling2D(),\n",
        "  layers.Conv2D(32, 3, padding='same', activation='relu'),\n",
        "  layers.MaxPooling2D(),\n",
        "  layers.Conv2D(64, 3, padding='same', activation='relu'),\n",
        "  layers.MaxPooling2D(),\n",
        "  layers.Dropout(0.2),\n",
        "  layers.Flatten(),\n",
        "  layers.Dense(128, activation='relu'),\n",
        "  layers.Dense(2)\n",
        "])\n",
        "\n",
        "model.compile(optimizer='adam',\n",
        "              loss=tf.keras.losses.SparseCategoricalCrossentropy(from_logits=True),\n",
        "              metrics=['accuracy'])\n",
        "\n",
        "model.summary()"
      ],
      "metadata": {
        "colab": {
          "base_uri": "https://localhost:8080/"
        },
        "id": "EW9NlrOdJ7K4",
        "outputId": "2195ba65-ee66-4eb3-8451-31556092bc6f"
      },
      "execution_count": null,
      "outputs": [
        {
          "output_type": "stream",
          "name": "stdout",
          "text": [
            "Model: \"sequential_1\"\n",
            "_________________________________________________________________\n",
            " Layer (type)                Output Shape              Param #   \n",
            "=================================================================\n",
            " sequential (Sequential)     (None, 180, 180, 3)       0         \n",
            "                                                                 \n",
            " rescaling (Rescaling)       (None, 180, 180, 3)       0         \n",
            "                                                                 \n",
            " conv2d (Conv2D)             (None, 180, 180, 16)      448       \n",
            "                                                                 \n",
            " max_pooling2d (MaxPooling2D  (None, 90, 90, 16)       0         \n",
            " )                                                               \n",
            "                                                                 \n",
            " conv2d_1 (Conv2D)           (None, 90, 90, 32)        4640      \n",
            "                                                                 \n",
            " max_pooling2d_1 (MaxPooling  (None, 45, 45, 32)       0         \n",
            " 2D)                                                             \n",
            "                                                                 \n",
            " conv2d_2 (Conv2D)           (None, 45, 45, 64)        18496     \n",
            "                                                                 \n",
            " max_pooling2d_2 (MaxPooling  (None, 22, 22, 64)       0         \n",
            " 2D)                                                             \n",
            "                                                                 \n",
            " dropout (Dropout)           (None, 22, 22, 64)        0         \n",
            "                                                                 \n",
            " flatten (Flatten)           (None, 30976)             0         \n",
            "                                                                 \n",
            " dense (Dense)               (None, 128)               3965056   \n",
            "                                                                 \n",
            " dense_1 (Dense)             (None, 2)                 258       \n",
            "                                                                 \n",
            "=================================================================\n",
            "Total params: 3,988,898\n",
            "Trainable params: 3,988,898\n",
            "Non-trainable params: 0\n",
            "_________________________________________________________________\n"
          ]
        }
      ]
    },
    {
      "cell_type": "code",
      "source": [
        "history = model.fit(\n",
        "  trainSet,\n",
        "  validation_data=valSet,\n",
        "  epochs=15\n",
        ")\n",
        "accuracy = history.history['accuracy']\n",
        "valAccuracy = history.history['val_accuracy']\n",
        "\n",
        "loss = history.history['loss']\n",
        "valLoss = history.history['val_loss']\n",
        "\n",
        "epochsRange = range(15)\n",
        "\n",
        "plt.figure(figsize=(8, 8))\n",
        "plt.subplot(1, 2, 1)\n",
        "plt.plot(epochsRange, accuracy, label='Training Accuracy')\n",
        "plt.plot(epochsRange, valAccuracy, label='Validation Accuracy')\n",
        "plt.legend(loc='lower right')\n",
        "plt.title('Training and Validation Accuracy')\n",
        "\n",
        "plt.subplot(1, 2, 2)\n",
        "plt.plot(epochsRange, loss, label='Training Loss')\n",
        "plt.plot(epochsRange, valLoss, label='Validation Loss')\n",
        "plt.legend(loc='upper right')\n",
        "plt.title('Training and Validation Loss')\n",
        "plt.show()"
      ],
      "metadata": {
        "colab": {
          "base_uri": "https://localhost:8080/",
          "height": 1000
        },
        "id": "z2JsAolxMjY8",
        "outputId": "c4e1b6d8-a9eb-4f60-f8f2-9235242f1da0"
      },
      "execution_count": null,
      "outputs": [
        {
          "output_type": "stream",
          "name": "stdout",
          "text": [
            "Epoch 1/15\n",
            "50/50 [==============================] - 204s 4s/step - loss: 0.5651 - accuracy: 0.7645 - val_loss: 0.5476 - val_accuracy: 0.7604\n",
            "Epoch 2/15\n",
            "50/50 [==============================] - 125s 3s/step - loss: 0.5429 - accuracy: 0.7645 - val_loss: 0.5342 - val_accuracy: 0.7604\n",
            "Epoch 3/15\n",
            "50/50 [==============================] - 119s 2s/step - loss: 0.5302 - accuracy: 0.7645 - val_loss: 0.5168 - val_accuracy: 0.7604\n",
            "Epoch 4/15\n",
            "50/50 [==============================] - 125s 2s/step - loss: 0.5017 - accuracy: 0.7632 - val_loss: 0.4523 - val_accuracy: 0.7666\n",
            "Epoch 5/15\n",
            "50/50 [==============================] - 119s 2s/step - loss: 0.4601 - accuracy: 0.7749 - val_loss: 0.4551 - val_accuracy: 0.7604\n",
            "Epoch 6/15\n",
            "50/50 [==============================] - 124s 2s/step - loss: 0.4297 - accuracy: 0.7937 - val_loss: 0.3780 - val_accuracy: 0.8269\n",
            "Epoch 7/15\n",
            "50/50 [==============================] - 119s 2s/step - loss: 0.3949 - accuracy: 0.8087 - val_loss: 0.3600 - val_accuracy: 0.8419\n",
            "Epoch 8/15\n",
            "50/50 [==============================] - 121s 2s/step - loss: 0.3677 - accuracy: 0.8285 - val_loss: 0.3562 - val_accuracy: 0.8306\n",
            "Epoch 9/15\n",
            "50/50 [==============================] - 122s 2s/step - loss: 0.3575 - accuracy: 0.8379 - val_loss: 0.3260 - val_accuracy: 0.8532\n",
            "Epoch 10/15\n",
            "50/50 [==============================] - 119s 2s/step - loss: 0.3639 - accuracy: 0.8470 - val_loss: 0.3207 - val_accuracy: 0.8657\n",
            "Epoch 11/15\n",
            "50/50 [==============================] - 124s 2s/step - loss: 0.3470 - accuracy: 0.8467 - val_loss: 0.3417 - val_accuracy: 0.8369\n",
            "Epoch 12/15\n",
            "50/50 [==============================] - 121s 2s/step - loss: 0.3352 - accuracy: 0.8567 - val_loss: 0.3069 - val_accuracy: 0.8695\n",
            "Epoch 13/15\n",
            "50/50 [==============================] - 124s 2s/step - loss: 0.3486 - accuracy: 0.8485 - val_loss: 0.3344 - val_accuracy: 0.8469\n",
            "Epoch 14/15\n",
            "50/50 [==============================] - 122s 2s/step - loss: 0.3324 - accuracy: 0.8476 - val_loss: 0.3141 - val_accuracy: 0.8607\n",
            "Epoch 15/15\n",
            "50/50 [==============================] - 122s 2s/step - loss: 0.3177 - accuracy: 0.8620 - val_loss: 0.3384 - val_accuracy: 0.8394\n"
          ]
        },
        {
          "output_type": "display_data",
          "data": {
            "text/plain": [
              "<Figure size 576x576 with 2 Axes>"
            ],
            "image/png": "[encoded data removed]"
          },
          "metadata": {
            "needs_background": "light"
          }
        }
      ]
    },
    {
      "cell_type": "code",
      "source": [
        "model.save(\"/content/drive/MyDrive/galaxyModel\")"
      ],
      "metadata": {
        "colab": {
          "base_uri": "https://localhost:8080/"
        },
        "id": "zEAAvwQf-Htq",
        "outputId": "0fbbf029-cb9f-406c-ba85-60b49e557792"
      },
      "execution_count": null,
      "outputs": [
        {
          "output_type": "stream",
          "name": "stderr",
          "text": [
            "WARNING:absl:Found untraced functions such as _jit_compiled_convolution_op, _jit_compiled_convolution_op, _jit_compiled_convolution_op while saving (showing 3 of 3). These functions will not be directly callable after loading.\n"
          ]
        }
      ]
    },
    {
      "cell_type": "code",
      "source": [
        "galaxyModel = tf.keras.models.load_model(\"/content/drive/MyDrive/galaxyModel\")"
      ],
      "metadata": {
        "id": "LIT7sZTXF-PF"
      },
      "execution_count": null,
      "outputs": []
    },
    {
      "cell_type": "code",
      "source": [
        "classNames = ['galaxy', 'star']\n",
        "img = tf.keras.utils.load_img(\n",
        "    \"/content/drive/MyDrive/testImages/galaxy1.jpg\", target_size=(180, 180))\n",
        "imgArray = tf.keras.utils.img_to_array(img)\n",
        "imgArray = tf.expand_dims(imgArray, 0)\n",
        "\n",
        "predictions = galaxyModel.predict(imgArray)\n",
        "score = tf.nn.softmax(predictions[0])\n",
        "\n",
        "print(\n",
        "    \"This image is most likely a {} with a {:.2f} percent confidence.\"\n",
        "    .format(classNames[np.argmax(score)], 100 * np.max(score)))"
      ],
      "metadata": {
        "colab": {
          "base_uri": "https://localhost:8080/"
        },
        "id": "IU1KRPar-7pE",
        "outputId": "188addc7-89d6-4323-9e00-7252aab82010"
      },
      "execution_count": null,
      "outputs": [
        {
          "output_type": "stream",
          "name": "stdout",
          "text": [
            "1/1 [==============================] - 0s 54ms/step\n",
            "This image is most likely a galaxy with a 66.84 percent confidence.\n"
          ]
        }
      ]
    },
    {
      "cell_type": "code",
      "source": [
        "from google.colab import drive\n",
        "drive.mount('/content/drive')"
      ],
      "metadata": {
        "colab": {
          "base_uri": "https://localhost:8080/"
        },
        "id": "i_jy10toIfhD",
        "outputId": "f0b508fc-6cc4-4cf6-d6b0-75e651d35c48"
      },
      "execution_count": null,
      "outputs": [
        {
          "output_type": "stream",
          "name": "stdout",
          "text": [
            "Drive already mounted at /content/drive; to attempt to forcibly remount, call drive.mount(\"/content/drive\", force_remount=True).\n"
          ]
        }
      ]
    }
  ]
}